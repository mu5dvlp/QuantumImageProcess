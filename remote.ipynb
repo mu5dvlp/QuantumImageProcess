{
 "cells": [
  {
   "cell_type": "code",
   "execution_count": null,
   "metadata": {},
   "outputs": [],
   "source": [
    "channel = \"ibm_quantum\" # ibm_cloud, ibm_quantum\n",
    "backend_name = \"ibm_osaka\"\n",
    "token=\"\" # あなたのトークンを入力してください"
   ]
  },
  {
   "cell_type": "markdown",
   "metadata": {},
   "source": [
    "## ライブラリのインポート"
   ]
  },
  {
   "cell_type": "code",
   "execution_count": null,
   "metadata": {},
   "outputs": [],
   "source": [
    "from qiskit import *\n",
    "from qiskit_aer import Aer\n",
    "from qiskit_ibm_runtime import QiskitRuntimeService, SamplerV2 as Sampler\n",
    "import numpy as np \n",
    "from commonLogic import *\n",
    "import matplotlib.pyplot as plt\n",
    "\n",
    "import cv2\n",
    "\n",
    "%matplotlib inline"
   ]
  },
  {
   "cell_type": "markdown",
   "metadata": {},
   "source": [
    "## プロパティ"
   ]
  },
  {
   "cell_type": "code",
   "execution_count": null,
   "metadata": {},
   "outputs": [],
   "source": [
    "imageFileName = \"test.jpg\"\n",
    "shot_count = 2**12"
   ]
  },
  {
   "cell_type": "code",
   "execution_count": null,
   "metadata": {},
   "outputs": [],
   "source": [
    "image = cv2.imread(f\"{imageFileName}\")\n",
    "gray_image = cv2.cvtColor(image, cv2.COLOR_BGR2GRAY)\n",
    "\n",
    "width = len(gray_image[0])\n",
    "height = len(gray_image)\n",
    "w_qubits = width.bit_length()\n",
    "h_qubits = height.bit_length()\n",
    "n_qubits = w_qubits + h_qubits"
   ]
  },
  {
   "cell_type": "code",
   "execution_count": null,
   "metadata": {},
   "outputs": [],
   "source": [
    "arr = create_matrix(width,height)\n",
    "for y in range(height):\n",
    "    for x in range(width):\n",
    "        arr[y][x] = np.sqrt(gray_image[y][x]/np.sum(gray_image))\n",
    "\n",
    "s = gray_code_2d(width,height)"
   ]
  },
  {
   "cell_type": "code",
   "execution_count": null,
   "metadata": {},
   "outputs": [],
   "source": [
    "state_init = np.zeros(2**n_qubits)\n",
    "for y in range(height):\n",
    "    for x in range(width):\n",
    "        index = int(s[y][x],2)\n",
    "        state_init[index] = arr[y][x]\n",
    "\n",
    "qc = QuantumCircuit(n_qubits,n_qubits)\n",
    "qc.initialize(state_init,range(n_qubits))\n",
    "qc.measure(range(n_qubits),range(n_qubits))\n",
    "\n",
    "service = QiskitRuntimeService(channel=channel, token=token)\n",
    "backend = service.backend(backend_name)\n",
    "qc_transpiled = transpile(qc,backend)\n",
    "sampler = Sampler(backend)\n",
    "job = sampler.run([qc_transpiled],{\"shots\":shot_count})\n",
    "result = job.result()\n",
    "pub_result = result[0]\n",
    "counts = pub_result.data.c.get_counts()"
   ]
  },
  {
   "cell_type": "code",
   "execution_count": null,
   "metadata": {},
   "outputs": [],
   "source": [
    "image_quantumOutput = create_matrix(width,height)\n",
    "for key,value in counts.items():\n",
    "    x = gray_to_decimal(key[:w_qubits])\n",
    "    y = gray_to_decimal(key[w_qubits:])\n",
    "    val = clamp(float(np.sqrt(value*np.sum(gray_image)/(shot_count*255)))*255, 0, 255)\n",
    "    if(x<width and y<height):\n",
    "        image_quantumOutput[y][x] = val\n",
    "\n",
    "cv2.imwrite('quantumOutput_remote.png',np.array(image_quantumOutput))\n",
    "print(image_quantumOutput)"
   ]
  },
  {
   "cell_type": "code",
   "execution_count": null,
   "metadata": {},
   "outputs": [],
   "source": [
    "plt.imshow(image_quantumOutput, cmap='gray')\n",
    "plt.title('Gray Image')\n",
    "plt.axis('off')\n",
    "plt.show()"
   ]
  }
 ],
 "metadata": {
  "kernelspec": {
   "display_name": "Python 3",
   "language": "python",
   "name": "python3"
  },
  "language_info": {
   "codemirror_mode": {
    "name": "ipython",
    "version": 3
   },
   "file_extension": ".py",
   "mimetype": "text/x-python",
   "name": "python",
   "nbconvert_exporter": "python",
   "pygments_lexer": "ipython3",
   "version": "3.10.8"
  }
 },
 "nbformat": 4,
 "nbformat_minor": 2
}
