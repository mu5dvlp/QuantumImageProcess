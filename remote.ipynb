{
 "cells": [
  {
   "cell_type": "markdown",
   "metadata": {},
   "source": [
    "## IBM設定"
   ]
  },
  {
   "cell_type": "code",
   "execution_count": null,
   "metadata": {},
   "outputs": [],
   "source": [
    "channel = \"ibm_quantum\" # ibm_cloud, ibm_quantum\n",
    "backend_name = \"ibm_osaka\"\n",
    "token=\"\" # あなたのトークンを入力してください"
   ]
  },
  {
   "cell_type": "markdown",
   "metadata": {},
   "source": [
    "## ライブラリのインポート"
   ]
  },
  {
   "cell_type": "code",
   "execution_count": null,
   "metadata": {},
   "outputs": [],
   "source": [
    "from qiskit import *\n",
    "from qiskit_aer import Aer\n",
    "from qiskit_ibm_runtime import QiskitRuntimeService, SamplerV2 as Sampler\n",
    "import numpy as np \n",
    "import matplotlib.pyplot as plt\n",
    "\n",
    "import cv2\n",
    "\n",
    "from common_logic import *\n",
    "from common_quantum import *\n",
    "\n",
    "%matplotlib inline"
   ]
  },
  {
   "cell_type": "markdown",
   "metadata": {},
   "source": [
    "## プロパティ"
   ]
  },
  {
   "cell_type": "code",
   "execution_count": null,
   "metadata": {},
   "outputs": [],
   "source": [
    "imageFileName = \"test.jpg\"\n",
    "shot_count = 20000"
   ]
  },
  {
   "cell_type": "markdown",
   "metadata": {},
   "source": [
    "## 実装"
   ]
  },
  {
   "cell_type": "code",
   "execution_count": null,
   "metadata": {},
   "outputs": [],
   "source": [
    "# 画像読み込み\n",
    "image = cv2.imread(f\"{imageFileName}\")\n",
    "gray_image = cv2.cvtColor(image, cv2.COLOR_BGR2GRAY)\n",
    "\n",
    "width = len(gray_image[0])\n",
    "height = len(gray_image)\n",
    "w_qubits = width.bit_length()\n",
    "h_qubits = height.bit_length()\n",
    "n_qubits = w_qubits + h_qubits"
   ]
  },
  {
   "cell_type": "code",
   "execution_count": null,
   "metadata": {},
   "outputs": [],
   "source": [
    "# 画像を量子状態にエンコード\n",
    "probabilities = create_matrix(width,height)\n",
    "for y in range(height):\n",
    "    for x in range(width):\n",
    "        probabilities[y][x] = np.sqrt(gray_image[y][x]/np.sum(gray_image))\n",
    "\n",
    "address = gray_code_2d(width,height)"
   ]
  },
  {
   "cell_type": "code",
   "execution_count": null,
   "metadata": {},
   "outputs": [],
   "source": [
    "# 量子回路を作成\n",
    "state_init = convert_probability2statevector(probabilities,address)\n",
    "qc = create_QuantumCircuit_by_Statevector(state_init)"
   ]
  },
  {
   "cell_type": "code",
   "execution_count": null,
   "metadata": {},
   "outputs": [],
   "source": [
    "# 実機を実行\n",
    "service = QiskitRuntimeService(channel=channel, token=token)\n",
    "backend = service.backend(backend_name)\n",
    "qc_transpiled = transpile(qc,backend)\n",
    "sampler = Sampler(backend)\n",
    "job = sampler.run([qc_transpiled],shots=shot_count)\n",
    "result = job.result()\n",
    "pub_result = result[0]\n",
    "counts = pub_result.data.c.get_counts()"
   ]
  },
  {
   "cell_type": "code",
   "execution_count": null,
   "metadata": {},
   "outputs": [],
   "source": [
    "# 量子状態を画像にデコード\n",
    "image_quantumOutput = create_matrix(width,height)\n",
    "for key,value in counts.items():\n",
    "    x = gray_to_decimal(key[:w_qubits])\n",
    "    y = gray_to_decimal(key[w_qubits:])\n",
    "    val = clamp(float(np.sqrt(value*np.sum(gray_image)/(shot_count*255)))*255, 0, 255)\n",
    "    if(x<width and y<height):\n",
    "        image_quantumOutput[y][x] = val\n",
    "\n",
    "cv2.imwrite('quantumOutput_remote.png',np.array(image_quantumOutput))"
   ]
  },
  {
   "cell_type": "code",
   "execution_count": null,
   "metadata": {},
   "outputs": [],
   "source": [
    "# 画像を表示\n",
    "plt.imshow(image_quantumOutput, cmap='gray')\n",
    "plt.title('Gray Image')\n",
    "plt.axis('off')\n",
    "plt.show()"
   ]
  }
 ],
 "metadata": {
  "kernelspec": {
   "display_name": "Python 3",
   "language": "python",
   "name": "python3"
  },
  "language_info": {
   "codemirror_mode": {
    "name": "ipython",
    "version": 3
   },
   "file_extension": ".py",
   "mimetype": "text/x-python",
   "name": "python",
   "nbconvert_exporter": "python",
   "pygments_lexer": "ipython3",
   "version": "3.10.8"
  }
 },
 "nbformat": 4,
 "nbformat_minor": 2
}
